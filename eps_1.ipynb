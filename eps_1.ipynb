{
 "cells": [
  {
   "cell_type": "markdown",
   "id": "0c5bc3c9",
   "metadata": {},
   "source": [
    "# Package u need to install 📦"
   ]
  },
  {
   "cell_type": "code",
   "execution_count": 65,
   "id": "eaaca945",
   "metadata": {},
   "outputs": [
    {
     "name": "stderr",
     "output_type": "stream",
     "text": [
      "[nltk_data] Downloading package punkt to\n",
      "[nltk_data]     C:\\Users\\backe\\AppData\\Roaming\\nltk_data...\n",
      "[nltk_data]   Package punkt is already up-to-date!\n"
     ]
    }
   ],
   "source": [
    "import numpy as np\n",
    "import matplotlib.pyplot as plt\n",
    "from mpl_toolkits.mplot3d import Axes3D\n",
    "import nltk\n",
    "nltk.download('punkt')\n",
    "from nltk.tokenize import word_tokenize\n",
    "\n",
    "from sklearn.decomposition import PCA\n",
    "from sklearn.metrics.pairwise import cosine_similarity\n",
    "from sklearn.preprocessing import MultiLabelBinarizer\n",
    "from transformers import BertTokenizer\n",
    "from gensim.models import Word2Vec\n",
    "import gensim.downloader as api"
   ]
  },
  {
   "cell_type": "code",
   "execution_count": 66,
   "id": "073e1ec8",
   "metadata": {},
   "outputs": [],
   "source": [
    "kalimat = [\n",
    "    \"I love Indonesia.\",\n",
    "    \"Sate is scrumptious.\",\n",
    "    \"Sei Caduto in un Errore Logico.\",\n",
    "    \"Sugeng rawuh! sedulur sak kabehe.\",\n",
    "    \"Punten aa, kumaha ieu teh?\"\n",
    "]"
   ]
  },
  {
   "cell_type": "markdown",
   "id": "a3cfa80e",
   "metadata": {},
   "source": [
    "# Tokenization⛓️‍💥\n",
    "**How to mecah texts to unit terkecilnya bisa kata, subkata or character.**"
   ]
  },
  {
   "cell_type": "markdown",
   "id": "1ad64b5a",
   "metadata": {},
   "source": [
    "## Tradisional Approach"
   ]
  },
  {
   "cell_type": "markdown",
   "id": "5e50eaa0",
   "metadata": {},
   "source": [
    "Pendekatan pertama yg bisa dipake itu adalah as simple kita pecah2 dia berdasarkan spasi, tapi ingat ga smua kalimat yg kita pisah utk jadi kata in general bisa kita pisah spt itu"
   ]
  },
  {
   "cell_type": "code",
   "execution_count": 67,
   "id": "bdf8957e",
   "metadata": {},
   "outputs": [
    {
     "name": "stdout",
     "output_type": "stream",
     "text": [
      "Kalimat: I love Indonesia.\n",
      "Kata: ['I', 'love', 'Indonesia.']\n",
      "Kalimat: Sate is scrumptious.\n",
      "Kata: ['Sate', 'is', 'scrumptious.']\n",
      "Kalimat: Sei Caduto in un Errore Logico.\n",
      "Kata: ['Sei', 'Caduto', 'in', 'un', 'Errore', 'Logico.']\n",
      "Kalimat: Sugeng rawuh! sedulur sak kabehe.\n",
      "Kata: ['Sugeng', 'rawuh!', 'sedulur', 'sak', 'kabehe.']\n",
      "Kalimat: Punten aa, kumaha ieu teh?\n",
      "Kata: ['Punten', 'aa,', 'kumaha', 'ieu', 'teh?']\n"
     ]
    }
   ],
   "source": [
    "for kata in kalimat:\n",
    "    kata_kata = kata.split()\n",
    "    print(f'Kalimat: {kata}')\n",
    "    print(f'Kata: {kata_kata}')"
   ]
  },
  {
   "cell_type": "markdown",
   "id": "dd8033dc",
   "metadata": {},
   "source": [
    "Nah kek gitu kalo dia pakenya split, simple sebenernya disini konsep dia itu adlah misahinnya based delimiternya(default->spasi). Tapi bisa kita liat disini minesnya dia bner2 gabisa handle tanda baca dg bagus, liat si titik selalu ngikut di kata terakhir and etc. Makanya ada teknik yg lebih bagus yaitu pake Word Tokenizer"
   ]
  },
  {
   "cell_type": "code",
   "execution_count": 68,
   "id": "4f195b90",
   "metadata": {},
   "outputs": [
    {
     "name": "stdout",
     "output_type": "stream",
     "text": [
      "Kalimat: I love Indonesia.\n",
      "Kata: ['I', 'love', 'Indonesia', '.']\n",
      "Kalimat: Sate is scrumptious.\n",
      "Kata: ['Sate', 'is', 'scrumptious', '.']\n",
      "Kalimat: Sei Caduto in un Errore Logico.\n",
      "Kata: ['Sei', 'Caduto', 'in', 'un', 'Errore', 'Logico', '.']\n",
      "Kalimat: Sugeng rawuh! sedulur sak kabehe.\n",
      "Kata: ['Sugeng', 'rawuh', '!', 'sedulur', 'sak', 'kabehe', '.']\n",
      "Kalimat: Punten aa, kumaha ieu teh?\n",
      "Kata: ['Punten', 'aa', ',', 'kumaha', 'ieu', 'teh', '?']\n"
     ]
    }
   ],
   "source": [
    "for kata in kalimat:\n",
    "    kata_kata = word_tokenize(kata)\n",
    "    print(f'Kalimat: {kata}')\n",
    "    print(f'Kata: {kata_kata}')"
   ]
  },
  {
   "cell_type": "markdown",
   "id": "525f63c8",
   "metadata": {},
   "source": [
    "Keliatan kan disini bedanya, si word tokenizer itu udah misah juga sekalian sama tanda bacanya. Tapi disini problem karena secara semantik suatu kata itu ga hanya dipisah dengan \"suatu tanda baca\" atau unit dasarnya. Misal nih kek apple's itu nanti dia jadinya apple,',s"
   ]
  },
  {
   "cell_type": "markdown",
   "id": "56d09c8c",
   "metadata": {},
   "source": [
    "Satu lagi haha, si word tokenizer ini juga \"hancur\" ketika kita punya bahasa baru/gaul gt2lah. Misal -> `Lu kerja dimans sii? kok keliatanya gabut btz.` Nah di kamus word tokenizer itu kata2 spt dimans, gabut, btz gaada jadi dia bisa anggap sbg OOV dan nanti dia jadiin itu UNK token."
   ]
  },
  {
   "cell_type": "markdown",
   "id": "63e8dde5",
   "metadata": {},
   "source": [
    "## BPE in Action "
   ]
  },
  {
   "cell_type": "markdown",
   "id": "ba47afb5",
   "metadata": {},
   "source": [
    "Nah model modern sekarang itu mostly pakenya Byte Pair Encoding, jadi basisnya itu udah subword ngetokenizenya. Misal Mahasiswa -> 'Maha', '##siswa'"
   ]
  },
  {
   "cell_type": "code",
   "execution_count": 69,
   "id": "24a32fb6",
   "metadata": {},
   "outputs": [],
   "source": [
    "tokenizer = BertTokenizer.from_pretrained('bert-base-uncased')"
   ]
  },
  {
   "cell_type": "code",
   "execution_count": 70,
   "id": "8063f9df",
   "metadata": {},
   "outputs": [
    {
     "name": "stdout",
     "output_type": "stream",
     "text": [
      "Kalimat:I love Indonesia.\n",
      "Kata: ['[CLS]', 'i', 'love', 'indonesia', '.', '[SEP]', '[PAD]', '[PAD]', '[PAD]', '[PAD]', '[PAD]', '[PAD]', '[PAD]', '[PAD]', '[PAD]', '[PAD]', '[PAD]', '[PAD]']\n",
      "Kalimat:Sate is scrumptious.\n",
      "Kata: ['[CLS]', 'sat', '##e', 'is', 'sc', '##rum', '##pt', '##ious', '.', '[SEP]', '[PAD]', '[PAD]', '[PAD]', '[PAD]', '[PAD]', '[PAD]', '[PAD]', '[PAD]']\n",
      "Kalimat:Sei Caduto in un Errore Logico.\n",
      "Kata: ['[CLS]', 'se', '##i', 'cad', '##uto', 'in', 'un', 'error', '##e', 'logic', '##o', '.', '[SEP]', '[PAD]', '[PAD]', '[PAD]', '[PAD]', '[PAD]']\n",
      "Kalimat:Sugeng rawuh! sedulur sak kabehe.\n",
      "Kata: ['[CLS]', 'su', '##gen', '##g', 'raw', '##uh', '!', 'se', '##du', '##lu', '##r', 'sa', '##k', 'ka', '##be', '##he', '.', '[SEP]']\n",
      "Kalimat:Punten aa, kumaha ieu teh?\n",
      "Kata: ['[CLS]', 'punt', '##en', 'aa', ',', 'ku', '##mah', '##a', 'ie', '##u', 'te', '##h', '?', '[SEP]', '[PAD]', '[PAD]', '[PAD]', '[PAD]']\n"
     ]
    }
   ],
   "source": [
    "encoded = tokenizer(kalimat, padding=True, \n",
    "                    truncation=True, return_tensors=\"pt\")\n",
    "\n",
    "for i, teks in enumerate(kalimat):\n",
    "    # ambil input ids utk kalimat ke-i\n",
    "    input_ids_kalimat = encoded['input_ids'][i].tolist()\n",
    "    # convert id token jadi string token lagi\n",
    "    token_kalimat = tokenizer.convert_ids_to_tokens(input_ids_kalimat)\n",
    "    print(f'Kalimat:{teks}')\n",
    "    print(f'Kata: {token_kalimat}')"
   ]
  },
  {
   "cell_type": "markdown",
   "id": "2630a3d3",
   "metadata": {},
   "source": [
    "Oke, mantap yaa disini keliatan kalo dia treatmentnya itu dipecah2 subwordnya. Sedikit info utk token\n",
    "- [CLS] -> sbg representasi klo ini tu kalimat\n",
    "- [PAD] -> sbg 'pengisi' biar urutan yg pendek itu punya pjg yg sama dg urutan terpanjang dlm suatu batch\n",
    "- [SEP] -> sbg penanda atau akhir dri suatu separator"
   ]
  },
  {
   "cell_type": "markdown",
   "id": "edfc5874",
   "metadata": {},
   "source": [
    "# Embedding 🧮\n",
    "**Gimana token direpresent kedalam suatu vektor berdimensi tetap**"
   ]
  },
  {
   "cell_type": "markdown",
   "id": "a2766da4",
   "metadata": {},
   "source": [
    "pertama jelas kita semua udah kenal sama yg nmanya OHE ini approach basic banget dimana dia nunjukin \"is there exist or not?\" tapi ingat dia ga nunjukin suatu relasi satu dengan yg lain."
   ]
  },
  {
   "cell_type": "code",
   "execution_count": 71,
   "id": "5a3532b9",
   "metadata": {},
   "outputs": [
    {
     "data": {
      "text/plain": [
       "[['aku',\n",
       "  'sungguh',\n",
       "  'sangat',\n",
       "  'mencintai',\n",
       "  'bakso',\n",
       "  'sapi',\n",
       "  'yang',\n",
       "  'dimasak',\n",
       "  'oleh',\n",
       "  'ibuku']]"
      ]
     },
     "execution_count": 71,
     "metadata": {},
     "output_type": "execute_result"
    }
   ],
   "source": [
    "sentence = \"Aku sungguh sangat mencintai bakso sapi yang dimasak oleh ibuku\"\n",
    "# tokenizednya cukup kita split kali ini\n",
    "word_tokenized = [sentence.lower().split()]\n",
    "word_tokenized"
   ]
  },
  {
   "cell_type": "code",
   "execution_count": 72,
   "id": "e218f75b",
   "metadata": {},
   "outputs": [
    {
     "name": "stdout",
     "output_type": "stream",
     "text": [
      "\n",
      "🟥 One-Hot Vocabulary: ['aku' 'bakso' 'dimasak' 'ibuku' 'mencintai' 'oleh' 'sangat' 'sapi'\n",
      " 'sungguh' 'yang']\n",
      "One-hot for 'bakso': 1 <-dia ini bakal satu teruss untuk smuanya, krn ya tadi cuma nunjukin exist or not\n"
     ]
    }
   ],
   "source": [
    "mlb = MultiLabelBinarizer()\n",
    "one_hot = mlb.fit_transform(word_tokenized)\n",
    "print(\"\\n🟥 One-Hot Vocabulary:\", mlb.classes_)\n",
    "print(\"One-hot for 'bakso':\", one_hot[0][mlb.classes_.tolist().index('bakso')],\"<-dia ini bakal satu teruss untuk smuanya, krn ya tadi cuma nunjukin exist or not\")"
   ]
  },
  {
   "cell_type": "markdown",
   "id": "60947523",
   "metadata": {},
   "source": [
    "Terus yg lebi baru ada yg namanya->`Word2Vec (CBOW/skip-gram)`, dia belajar dari window lokalnya gitu kek ngepredict based in contextnya.\n",
    "<br>Misal: ada apa ... kamu, kelihatanya sedih? -> nah kita bakal predict kata itu dari sekitarnya (ini CBOW)"
   ]
  },
  {
   "cell_type": "code",
   "execution_count": 73,
   "id": "78e7a02e",
   "metadata": {},
   "outputs": [
    {
     "name": "stdout",
     "output_type": "stream",
     "text": [
      "\n",
      "🟦 Word2Vec vector for 'bakso':\n",
      " [-0.08157917  0.04495798 -0.04137076  0.00824536  0.08498619 -0.04462177\n",
      "  0.045175   -0.0678696  -0.03548489  0.09398508]\n"
     ]
    }
   ],
   "source": [
    "w2v_model = Word2Vec(sentences=word_tokenized, vector_size=10, window=2, min_count=1, workers=1)\n",
    "print(\"\\n🟦 Word2Vec vector for 'bakso':\\n\", w2v_model.wv['bakso'])"
   ]
  },
  {
   "cell_type": "markdown",
   "id": "388ba21f",
   "metadata": {},
   "source": [
    "BTW, kalo disini ada yg nanya itu angka paan siii? nah itu representasi vektornya si bro, trus kenapa ada 10? ya iya soalnya kita set vector sizenya 10, jadi misal di dimensi 0: -0.081 (artinya \"bakso\" punya kontribusi negatif di dimensi ini)"
   ]
  },
  {
   "cell_type": "code",
   "execution_count": 74,
   "id": "0f6b7588",
   "metadata": {},
   "outputs": [
    {
     "name": "stdout",
     "output_type": "stream",
     "text": [
      "Vektor Bakso:\n",
      "0↪️-0.08\n",
      "1↪️0.04\n",
      "2↪️-0.04\n",
      "3↪️0.01\n",
      "4↪️0.08\n",
      "5↪️-0.04\n",
      "6↪️0.05\n",
      "7↪️-0.07\n",
      "8↪️-0.04\n",
      "9↪️0.09\n"
     ]
    }
   ],
   "source": [
    "print('Vektor Bakso:')\n",
    "for idx,val in enumerate(w2v_model.wv['bakso']):\n",
    "    print(f'{idx}↪️{val:.2f}')"
   ]
  },
  {
   "cell_type": "code",
   "execution_count": 75,
   "id": "e9f00afd",
   "metadata": {},
   "outputs": [
    {
     "name": "stdout",
     "output_type": "stream",
     "text": [
      "Vektor Sapi:\n",
      "0↪️-0.10\n",
      "1↪️0.05\n",
      "2↪️-0.09\n",
      "3↪️-0.04\n",
      "4↪️-0.00\n",
      "5↪️-0.00\n",
      "6↪️-0.08\n",
      "7↪️0.10\n",
      "8↪️0.05\n",
      "9↪️0.09\n"
     ]
    }
   ],
   "source": [
    "print('Vektor Sapi:')\n",
    "for idx,val in enumerate(w2v_model.wv['sapi']):\n",
    "    print(f'{idx}↪️{val:.2f}')"
   ]
  },
  {
   "cell_type": "code",
   "execution_count": 76,
   "id": "0b439c21",
   "metadata": {},
   "outputs": [
    {
     "name": "stdout",
     "output_type": "stream",
     "text": [
      "Vektor Ibuku:\n",
      "0↪️-0.01\n",
      "1↪️0.00\n",
      "2↪️0.05\n",
      "3↪️0.09\n",
      "4↪️-0.09\n",
      "5↪️-0.07\n",
      "6↪️0.06\n",
      "7↪️0.09\n",
      "8↪️-0.05\n",
      "9↪️-0.04\n"
     ]
    }
   ],
   "source": [
    "print('Vektor Ibuku:')\n",
    "for idx,val in enumerate(w2v_model.wv['ibuku']):\n",
    "    print(f'{idx}↪️{val:.2f}')"
   ]
  },
  {
   "cell_type": "markdown",
   "id": "3cf512f2",
   "metadata": {},
   "source": [
    "sebenernya secara \"kasarnya\" kita udah bisa liat kalo emang si bakso itu lebih deket dengan sapi, tapi kita akan validasi once again pke cosine similarity (lebih ilmiah jg wkwk)"
   ]
  },
  {
   "cell_type": "code",
   "execution_count": 77,
   "id": "fea11546",
   "metadata": {},
   "outputs": [],
   "source": [
    "# Ambil vektor dari model\n",
    "v_ibuku = w2v_model.wv['ibuku']\n",
    "v_sapi = w2v_model.wv['sapi']\n",
    "v_bakso = w2v_model.wv['bakso']\n",
    "\n",
    "# Bentuk ke array 2D biar bisa diproses sklearn\n",
    "vectors = np.array([v_ibuku, v_sapi, v_bakso])\n",
    "labels = ['ibuku', 'sapi', 'bakso']\n",
    "\n",
    "# Hitung cosine similarity antar semua pasangan\n",
    "sim_matrix = cosine_similarity(vectors)"
   ]
  },
  {
   "cell_type": "code",
   "execution_count": 78,
   "id": "93a965d1",
   "metadata": {},
   "outputs": [
    {
     "data": {
      "text/plain": [
       "array([[ 1.        , -0.22418655, -0.27260208],\n",
       "       [-0.22418655,  1.0000001 ,  0.24953827],\n",
       "       [-0.27260208,  0.24953827,  1.0000002 ]], dtype=float32)"
      ]
     },
     "execution_count": 78,
     "metadata": {},
     "output_type": "execute_result"
    }
   ],
   "source": [
    "sim_matrix"
   ]
  },
  {
   "cell_type": "code",
   "execution_count": 79,
   "id": "abe8bc94",
   "metadata": {},
   "outputs": [
    {
     "name": "stdout",
     "output_type": "stream",
     "text": [
      "\n",
      "🔥 Cosine Similarity Matrix\n",
      "ibuku ↔️ sapi = -0.22\n",
      "ibuku ↔️ bakso = -0.27\n",
      "sapi ↔️ ibuku = -0.22\n",
      "sapi ↔️ bakso = 0.25\n",
      "bakso ↔️ ibuku = -0.27\n",
      "bakso ↔️ sapi = 0.25\n"
     ]
    }
   ],
   "source": [
    "# bandingin dia masing2\n",
    "print(\"\\n🔥 Cosine Similarity Matrix\")\n",
    "for i in range(len(labels)):\n",
    "    for j in range(len(labels)):\n",
    "            if i!=j:\n",
    "                print(f\"{labels[i]} ↔️ {labels[j]} = {sim_matrix[i][j]:.2f}\")"
   ]
  },
  {
   "cell_type": "markdown",
   "id": "5a971d4a",
   "metadata": {},
   "source": [
    "terlihat bahwa memang bakso dan sapi punya cosine sim yg tinggi."
   ]
  },
  {
   "cell_type": "markdown",
   "id": "0454d287",
   "metadata": {},
   "source": [
    "### Sedikit pembuktian dengan visualisasi\n",
    "nanti akan terlihat kalau bakso bener2 lebih dekat dengan sapi"
   ]
  },
  {
   "cell_type": "code",
   "execution_count": 80,
   "id": "db1038c7",
   "metadata": {},
   "outputs": [],
   "source": [
    "word_vectors = {\n",
    "    \"bakso\": w2v_model.wv['bakso'],\n",
    "    \"sapi\": w2v_model.wv['sapi'], \n",
    "    \"dimasak\": w2v_model.wv['dimasak'], \n",
    "    \"ibuku\": w2v_model.wv['ibuku']  \n",
    "}\n",
    "\n",
    "words = list(word_vectors.keys())\n",
    "vectors = np.array([word_vectors[w] for w in words])"
   ]
  },
  {
   "cell_type": "code",
   "execution_count": 81,
   "id": "04c404e2",
   "metadata": {},
   "outputs": [
    {
     "data": {
      "image/png": "[encoded data removed]",
      "text/plain": [
       "<Figure size 800x600 with 1 Axes>"
      ]
     },
     "metadata": {},
     "output_type": "display_data"
    }
   ],
   "source": [
    "# PCA 3 dimensi\n",
    "pca_3d = PCA(n_components=3)\n",
    "reduced_3d = pca_3d.fit_transform(vectors)\n",
    "\n",
    "fig = plt.figure(figsize=(8, 6))\n",
    "ax = fig.add_subplot(111, projection='3d')\n",
    "\n",
    "for i, word in enumerate(words):\n",
    "    x, y, z = reduced_3d[i]\n",
    "    ax.scatter(x, y, z)\n",
    "    ax.text(x + 0.01, y + 0.01, z + 0.01, word, fontsize=12)\n",
    "\n",
    "ax.set_title(\"Visualisasi Word2Vec (PCA 3D)\")\n",
    "ax.set_xlabel(\"PC1\")\n",
    "ax.set_ylabel(\"PC2\")\n",
    "ax.set_zlabel(\"PC3\")\n",
    "plt.tight_layout()\n",
    "plt.show()"
   ]
  },
  {
   "cell_type": "markdown",
   "id": "5655f84f",
   "metadata": {},
   "source": [
    "Terus ada Glove, sebenernya disini utk main conceptnya hampir sama pendekatannya, hanya saja dia basis matrixnya co-occurence dan tentunya pretrained.\n",
    "<br> Buat yg penasaran apa sih co-occurence 🤔\n",
    "<br> jadi simplenya **co-occurence itu kek sberapa sering 2 kata itu muncul dalam satu konteks (which is klo disini windownya)**, misal nih kita kan sering banget ya nemuin kata \"bakso\" dan \"kuah\" terus \"soto\" dan \"kuah\". Nah nanti si glove bs ngasi tw bahwa vektor soto dan bakso itu deketan."
   ]
  },
  {
   "cell_type": "code",
   "execution_count": 82,
   "id": "30217a4e",
   "metadata": {},
   "outputs": [
    {
     "name": "stdout",
     "output_type": "stream",
     "text": [
      "\n",
      "🟨 GloVe vector for 'bakso':\n",
      " [ 0.033904   0.47768   -0.35009   -0.03551    0.40425   -0.13836\n",
      "  0.40631   -0.34635    0.30708   -0.20823   -0.22807    0.010479\n",
      "  0.01501    0.23469   -0.21317    0.33624   -0.07122    0.29014\n",
      "  0.39669    0.31358    0.10733    0.19041   -0.42277   -0.12968\n",
      " -0.28085    0.37466   -0.20913    0.41805   -0.02033    0.26688\n",
      "  0.035072  -0.026574   0.0015617 -0.45732    0.4532     0.22955\n",
      "  0.16361   -0.33732   -0.0030354 -0.4692     0.039717   0.31478\n",
      "  0.20568   -0.017727   0.33816   -0.31504    0.024866   0.26932\n",
      " -0.0027975  0.7625    -0.20579    0.09217   -0.24812   -0.45499\n",
      " -0.14886    0.72996   -0.12679    0.015581  -0.78166   -0.099686\n",
      "  0.57149   -0.4424    -0.45965    0.27243   -0.30197    0.14087\n",
      " -0.10295   -0.43336   -0.16778   -0.12508   -0.2493     0.29616\n",
      "  0.35317    0.66554   -0.0046357  0.030268  -0.32464    0.077964\n",
      "  0.47472   -0.17878    0.021797  -0.48949    0.28678    0.020525\n",
      "  0.39643   -0.025419  -0.31486   -0.044168   0.19627   -0.12278\n",
      " -0.14977    0.25025    0.24971   -0.50337    0.25609   -0.27769\n",
      "  0.11422    0.21818   -0.23245    0.0081307]\n"
     ]
    }
   ],
   "source": [
    "# import gensim.downloader as api\n",
    "glove= api.load(\"glove-wiki-gigaword-100\")\n",
    "\n",
    "try:\n",
    "    print(\"\\n🟨 GloVe vector for 'bakso':\\n\", glove['bakso'])\n",
    "except:\n",
    "    print(\"\\n🟨 'bakso' not found in GloVe vocab (check casing/punctuation)\")"
   ]
  },
  {
   "cell_type": "code",
   "execution_count": 85,
   "id": "e8f5d63f",
   "metadata": {},
   "outputs": [
    {
     "name": "stdout",
     "output_type": "stream",
     "text": [
      "\n",
      "🟨 GloVe vector for 'meatball':\n",
      " [-4.1594e-01  9.2149e-01  5.4238e-01 -1.4723e-01 -5.0328e-01  3.3270e-01\n",
      "  7.8862e-01 -5.7746e-01 -3.1573e-02  4.5393e-01 -5.6421e-01  1.6141e-03\n",
      "  1.7429e-01  4.7718e-01 -1.7618e-02  4.3529e-01 -1.9299e-01 -6.9631e-01\n",
      "  2.9631e-02  1.0293e-02 -2.0216e-01  3.2282e-01 -4.0654e-01 -1.4297e-01\n",
      "  1.6441e-01  9.7935e-01  2.2433e-01  8.1413e-01 -3.9734e-02 -2.6183e-01\n",
      "  1.6127e-01  1.5824e-01  3.4982e-01 -1.0204e-01  1.9916e-01  1.2213e-01\n",
      " -2.3828e-01 -3.9749e-01  2.4149e-01 -5.2528e-01  2.3457e-01  3.7451e-01\n",
      " -6.1318e-02 -4.9784e-01 -1.0605e-01  3.5300e-02 -8.8680e-01 -2.2347e-01\n",
      " -2.9483e-01  1.9256e-01 -5.8267e-01  4.3597e-02 -3.4669e-01 -3.7876e-01\n",
      " -8.3952e-01  3.7466e-01 -1.4246e-01  8.4016e-02 -2.0297e-01  3.9414e-01\n",
      " -1.9083e-01  2.3273e-01 -3.4452e-02  8.2528e-01 -2.5023e-01 -5.6444e-02\n",
      " -4.7090e-01 -2.3873e-01 -3.7295e-01  7.8183e-03 -3.3597e-01 -2.1384e-01\n",
      "  2.9271e-01  2.8098e-01  1.4201e-01  3.6465e-01 -4.5627e-01  3.0765e-02\n",
      "  1.5580e-01  2.0247e-01 -4.1150e-01 -7.6679e-02  6.0907e-01  7.1644e-01\n",
      " -5.2859e-04 -1.5734e-01 -2.8051e-01 -7.7331e-02 -4.7197e-01  1.9086e-01\n",
      " -1.2260e-01  3.6687e-01  2.2179e-01 -4.9202e-01  3.4921e-01 -6.2525e-01\n",
      "  6.6272e-01 -3.4743e-01  1.4701e-01  2.0708e-01]\n"
     ]
    }
   ],
   "source": [
    "try:\n",
    "    print(\"\\n🟨 GloVe vector for 'meatball':\\n\", glove['meatball'])\n",
    "except:\n",
    "    print(\"\\n🟨 'meatball' not found in GloVe vocab (check casing/punctuation)\")"
   ]
  },
  {
   "cell_type": "code",
   "execution_count": 59,
   "id": "4f7b1c87",
   "metadata": {},
   "outputs": [
    {
     "name": "stdout",
     "output_type": "stream",
     "text": [
      "\n",
      "🟨 GloVe vector for 'sapi':\n",
      " [-0.090403   0.11407   -0.021357   0.2734     0.21941   -0.3912\n",
      " -0.41366    0.13317    0.40228   -0.82692   -0.11431   -0.087375\n",
      " -0.75536    0.015493   0.74931    0.28701    0.1784     0.091627\n",
      "  0.30042    0.048118   0.19482   -0.79823    0.091771   0.23247\n",
      " -0.1491     0.32454    0.14852    0.34033   -0.22677    0.31044\n",
      "  0.81392   -0.012929   0.18009   -0.02811    0.23227    0.0047932\n",
      " -0.07427   -0.10136    0.74419    0.015942  -0.5788    -0.48526\n",
      "  0.31832    0.20384   -0.040021  -0.53469   -0.2496     0.073077\n",
      "  0.31809    0.44468   -0.36439    0.16193    0.041966  -0.2763\n",
      "  0.32295    0.73637   -0.22975   -0.5447    -0.1591    -0.51163\n",
      " -0.10965    0.12902   -0.23842    0.015497  -0.67473   -0.57197\n",
      " -0.36842   -0.034412  -0.098011  -0.1846     0.11332    0.57416\n",
      "  0.98621    0.023568  -0.20612    0.4038    -0.34364    0.27842\n",
      "  0.60846    0.30078   -0.86175   -0.87983    0.41006    0.2109\n",
      "  0.47485    0.55151    0.19373    0.15897    0.57628    0.55608\n",
      " -0.051835   0.31601    0.16209   -0.45521    0.0088562 -0.054807\n",
      "  0.17987   -0.050509   0.17955   -0.029085 ]\n"
     ]
    }
   ],
   "source": [
    "try:\n",
    "    print(\"\\n🟨 GloVe vector for 'sapi':\\n\", glove['sapi'])\n",
    "except:\n",
    "    print(\"\\n🟨 'sapi' not found in GloVe vocab (check casing/punctuation)\")"
   ]
  },
  {
   "cell_type": "markdown",
   "id": "84c4cef5",
   "metadata": {},
   "source": [
    "Nah si Glove ini beda approachnya dengan Word2Vec dimana, Glove itu ngeliat konteks secara general kalo Word2Vec itu bener2 nuancenya didapat dari data lokal kita. Tapi tradeoffnya adalah kek contoh diatas, keliatan banget kan?\n",
    "- si bakso dan sapi ga deket dari angkanya? jawaban singkat dan lucunya iyaa, karena glove wiki itu dilatih ke bahasa inggris hahaha\n",
    "- kita balik lg ke konsep \"co-occurences\" tadi, dia kan cuma ngeliat distribusinya purely stats banget kan? dimana dua kata itu muncul dlm suatu konteks\n",
    "<br>Sekarang kita coba aja klo ke bahasa inggris yaa... 👇"
   ]
  },
  {
   "cell_type": "code",
   "execution_count": 88,
   "id": "88bae39d",
   "metadata": {},
   "outputs": [
    {
     "name": "stdout",
     "output_type": "stream",
     "text": [
      "\n",
      "🟨 GloVe vector for 'sauce':\n",
      " [-1.2736e+00  6.2730e-01  1.7726e-03 -3.5656e-01 -2.6832e-01  4.9250e-01\n",
      "  1.2867e+00 -4.0008e-02  5.1850e-01 -7.4054e-02  6.5537e-02 -3.6066e-02\n",
      " -1.3357e-01  6.0609e-01 -5.2490e-01 -4.8632e-02  3.5947e-01 -1.0301e+00\n",
      "  3.7887e-01 -7.2638e-02 -2.9857e-01  2.9651e-01  7.9060e-03 -6.2650e-01\n",
      " -4.0341e-01  1.8887e+00  4.4841e-02 -2.5939e-01 -2.7910e-01 -9.7310e-01\n",
      " -2.8309e-01  8.5994e-01 -4.2343e-01 -7.0646e-01  1.5511e-01  1.3182e+00\n",
      "  6.1485e-01 -1.4792e-01  8.1772e-01 -8.1013e-01  7.8446e-01 -1.8056e+00\n",
      " -5.6805e-01 -1.3261e+00  9.9687e-01  3.3294e-01 -5.7511e-01 -6.0964e-01\n",
      "  5.1495e-01 -1.2282e+00 -3.8166e-01  1.6704e-01 -7.2159e-01  1.0191e+00\n",
      " -1.6597e+00 -6.4787e-01 -1.3609e-01 -2.2263e-01 -1.5168e-02  2.4426e-01\n",
      " -3.2894e-01  8.5942e-01  9.2141e-01  3.5343e-01  4.1491e-01 -1.0394e+00\n",
      "  1.2184e-01 -1.9172e-01 -1.4375e-01 -9.5844e-03 -7.4170e-02  5.4519e-01\n",
      "  5.8833e-01  7.2610e-01  3.7509e-01  1.3124e+00 -1.1103e+00 -7.2948e-01\n",
      "  9.0945e-01  7.5513e-01 -2.6864e-01 -6.5375e-01 -8.0140e-01  5.6729e-01\n",
      "  2.8216e-01  8.8563e-02 -3.2933e-01  6.7788e-01  5.2784e-01 -2.3199e-01\n",
      " -5.6816e-01  4.9066e-01 -1.1720e+00 -5.0238e-01 -6.2964e-01 -7.0870e-01\n",
      " -1.9566e-01 -8.9915e-01 -2.1811e-01  6.0250e-01]\n"
     ]
    }
   ],
   "source": [
    "try:\n",
    "    print(\"\\n🟨 GloVe vector for 'sauce':\\n\", glove['sauce'])\n",
    "except:\n",
    "    print(\"\\n🟨 'sauce' not found in GloVe vocab (check casing/punctuation)\")"
   ]
  },
  {
   "cell_type": "code",
   "execution_count": 89,
   "id": "f681aa6c",
   "metadata": {},
   "outputs": [
    {
     "name": "stdout",
     "output_type": "stream",
     "text": [
      "\n",
      "🟨 GloVe vector for 'spaghetti':\n",
      " [-0.88895    0.4844    -0.051903  -0.70839   -0.31769    0.13902\n",
      "  0.411      0.46638    0.19855    0.71711    0.15309   -0.213\n",
      " -0.1862     1.2099     0.57984    0.22034    0.56773   -0.61531\n",
      "  0.57544    0.38726   -0.15263    0.22617    0.4436    -0.83482\n",
      "  0.55988    1.1118    -0.11076   -0.38565   -0.096068  -0.72056\n",
      "  0.10133   -0.137     -0.035427  -0.58399    0.46611    1.196\n",
      "  0.89378   -0.13785    0.72573   -0.46004   -0.10664   -0.0015739\n",
      " -0.24956   -0.70021    0.63092   -0.018898   0.26197   -0.43055\n",
      " -0.22856    0.21683   -0.63615    0.32427    0.52857    0.31404\n",
      " -1.283     -0.35121   -0.42281    0.87171    0.20718    0.559\n",
      " -0.37616    0.92871    0.27252   -0.18739   -0.42607   -0.92642\n",
      " -0.3723    -0.15407   -0.37191    0.62548   -0.031421   0.34789\n",
      "  0.73675    0.34429   -0.42037    0.6584    -0.87335    0.23203\n",
      "  0.97209    1.4313     0.10229    0.082783   0.22729    0.52184\n",
      " -0.58517    0.3238    -1.0612     0.49181   -0.73176    0.26318\n",
      " -0.48105    0.42933   -0.5804    -0.54488    0.32305   -0.96408\n",
      "  0.76858   -0.0054876  0.37759    0.56124  ]\n"
     ]
    }
   ],
   "source": [
    "try:\n",
    "    print(\"\\n🟨 GloVe vector for 'spaghetti':\\n\", glove['spaghetti'])\n",
    "except:\n",
    "    print(\"\\n🟨 'spaghetti' not found in GloVe vocab (check casing/punctuation)\")"
   ]
  },
  {
   "cell_type": "code",
   "execution_count": 90,
   "id": "d6d40fa4",
   "metadata": {},
   "outputs": [
    {
     "name": "stdout",
     "output_type": "stream",
     "text": [
      "\n",
      "🟨 GloVe vector for 'soccer':\n",
      " [ 8.3777e-01  5.1890e-01  6.4015e-01 -6.2606e-01 -9.7474e-01  1.0127e+00\n",
      "  6.2729e-02  4.4316e-01 -8.3299e-01  7.9888e-02 -1.1815e-02 -1.1265e+00\n",
      "  1.2554e-01 -3.4206e-01 -5.1422e-01  3.8526e-01  1.0032e+00 -1.5172e-03\n",
      " -2.2684e-01  3.5658e-01 -6.2449e-01  8.7271e-01  3.6670e-01  4.6462e-01\n",
      " -1.0046e-01 -4.4798e-01 -2.1813e-01 -5.6423e-01  5.6665e-01  5.1601e-01\n",
      " -5.6511e-01  7.1919e-01 -6.5347e-01 -9.5952e-02  5.6028e-01 -4.9956e-01\n",
      " -7.4757e-01  6.8516e-01 -1.4518e+00 -1.1207e-01  1.0241e-01  3.0537e-02\n",
      "  1.1326e-02 -8.6873e-01  6.3622e-01  4.9539e-01  3.0538e-01  7.7133e-02\n",
      "  7.4048e-02 -7.1163e-01 -1.9159e-01 -3.4168e-01 -4.7185e-01  5.6794e-01\n",
      "  3.7454e-01 -1.9207e+00 -8.6040e-01  5.7058e-01  1.0700e+00  9.2101e-01\n",
      " -6.4825e-01  5.3516e-01 -1.5556e-01 -9.0021e-01 -1.7459e-01  3.3146e-02\n",
      " -5.7512e-01  2.9963e-01 -4.0008e-01 -1.0765e-01  4.1384e-01 -7.2178e-01\n",
      "  1.1442e-01 -2.1291e-01  5.4949e-02  1.3213e-01  7.8766e-01  8.9291e-02\n",
      " -6.6689e-01  3.3998e-01  9.7163e-01 -8.4871e-02  1.7542e-01 -4.6039e-01\n",
      " -8.5885e-02 -7.5960e-01 -1.5071e+00  2.1545e-01  2.1209e-01 -4.4837e-01\n",
      " -2.5882e-01  3.3814e-01 -4.7979e-01  2.1059e-01  2.3621e-01 -3.6699e-01\n",
      " -8.1440e-01  5.4515e-01  9.7946e-01  2.3367e-01]\n"
     ]
    }
   ],
   "source": [
    "try:\n",
    "    print(\"\\n🟨 GloVe vector for 'soccer':\\n\", glove['soccer'])\n",
    "except:\n",
    "    print(\"\\n🟨 'soccer' not found in GloVe vocab (check casing/punctuation)\")"
   ]
  },
  {
   "cell_type": "code",
   "execution_count": 91,
   "id": "11db5f8a",
   "metadata": {},
   "outputs": [
    {
     "name": "stdout",
     "output_type": "stream",
     "text": [
      "Similarity: 0.59\n"
     ]
    }
   ],
   "source": [
    "spaghetti_vec = glove['spaghetti']\n",
    "sauce_vec = glove['sauce']\n",
    "\n",
    "sim = cosine_similarity([spaghetti_vec], [sauce_vec])[0][0]\n",
    "print(f\"Similarity: {sim:.2f}\")"
   ]
  },
  {
   "cell_type": "code",
   "execution_count": 92,
   "id": "1f0c9cdb",
   "metadata": {},
   "outputs": [
    {
     "name": "stdout",
     "output_type": "stream",
     "text": [
      "Similarity: 0.07\n"
     ]
    }
   ],
   "source": [
    "spaghetti_vec = glove['spaghetti']\n",
    "soccer_vec = glove['soccer']\n",
    "\n",
    "sim = cosine_similarity([spaghetti_vec], [soccer_vec])[0][0]\n",
    "print(f\"Similarity: {sim:.2f}\")"
   ]
  },
  {
   "cell_type": "markdown",
   "id": "b9cf2ec4",
   "metadata": {},
   "source": [
    "Keliatan kan sekarang? spaghetti sama sauce lebih deket dibanding kalo konteksnya sama vektor sepakbola. Udah clear kan temen-temen smua utk NLP 101 Episode_1. Monggo dilanjut ke Episode_2 yaa kita akan bahas lebih lanjut konsep-konsep lainnya yang ga kalah seru. Happy Learning 🙌"
   ]
  },
  {
   "cell_type": "code",
   "execution_count": null,
   "id": "3b5acc3a",
   "metadata": {},
   "outputs": [],
   "source": []
  }
 ],
 "metadata": {
  "kernelspec": {
   "display_name": "dl_iwan",
   "language": "python",
   "name": "python3"
  },
  "language_info": {
   "codemirror_mode": {
    "name": "ipython",
    "version": 3
   },
   "file_extension": ".py",
   "mimetype": "text/x-python",
   "name": "python",
   "nbconvert_exporter": "python",
   "pygments_lexer": "ipython3",
   "version": "3.11.5"
  }
 },
 "nbformat": 4,
 "nbformat_minor": 5
}
